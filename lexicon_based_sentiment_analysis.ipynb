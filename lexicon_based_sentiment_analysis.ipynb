{
 "cells": [
  {
   "cell_type": "markdown",
   "id": "5c4e6013",
   "metadata": {},
   "source": [
    "# Lexicon based sentiment analysis"
   ]
  },
  {
   "cell_type": "code",
   "execution_count": 1,
   "id": "cf562a66",
   "metadata": {},
   "outputs": [
    {
     "name": "stdout",
     "output_type": "stream",
     "text": [
      "Requirement already satisfied: textblob in c:\\anc\\lib\\site-packages (0.19.0)\n",
      "Requirement already satisfied: nltk>=3.9 in c:\\anc\\lib\\site-packages (from textblob) (3.9.1)\n",
      "Requirement already satisfied: click in c:\\anc\\lib\\site-packages (from nltk>=3.9->textblob) (8.0.4)\n",
      "Requirement already satisfied: joblib in c:\\anc\\lib\\site-packages (from nltk>=3.9->textblob) (1.1.0)\n",
      "Requirement already satisfied: regex>=2021.8.3 in c:\\anc\\lib\\site-packages (from nltk>=3.9->textblob) (2022.7.9)\n",
      "Requirement already satisfied: tqdm in c:\\anc\\lib\\site-packages (from nltk>=3.9->textblob) (4.64.1)\n",
      "Requirement already satisfied: colorama in c:\\anc\\lib\\site-packages (from click->nltk>=3.9->textblob) (0.4.6)\n",
      "Requirement already satisfied: gensim in c:\\anc\\lib\\site-packages (4.1.2)\n",
      "Requirement already satisfied: numpy>=1.17.0 in c:\\anc\\lib\\site-packages (from gensim) (1.24.4)\n",
      "Requirement already satisfied: scipy>=0.18.1 in c:\\anc\\lib\\site-packages (from gensim) (1.9.1)\n",
      "Requirement already satisfied: smart-open>=1.8.1 in c:\\anc\\lib\\site-packages (from gensim) (5.2.1)\n",
      "Requirement already satisfied: pandas in c:\\anc\\lib\\site-packages (2.3.1)\n",
      "Requirement already satisfied: numpy>=1.22.4 in c:\\anc\\lib\\site-packages (from pandas) (1.24.4)\n",
      "Requirement already satisfied: python-dateutil>=2.8.2 in c:\\anc\\lib\\site-packages (from pandas) (2.8.2)\n",
      "Requirement already satisfied: pytz>=2020.1 in c:\\anc\\lib\\site-packages (from pandas) (2022.1)\n",
      "Requirement already satisfied: tzdata>=2022.7 in c:\\anc\\lib\\site-packages (from pandas) (2025.2)\n",
      "Requirement already satisfied: six>=1.5 in c:\\anc\\lib\\site-packages (from python-dateutil>=2.8.2->pandas) (1.16.0)\n"
     ]
    }
   ],
   "source": [
    "# !python -m textblob.download_corpora\n",
    "!C:\\anc\\python.exe -m pip install textblob\n",
    "!pip install gensim\n",
    "!pip install -q nrclex\n",
    "!pip install --upgrade pandas\n",
    "!pip install -q afinn"
   ]
  },
  {
   "cell_type": "code",
   "execution_count": 2,
   "id": "cb872c70",
   "metadata": {},
   "outputs": [
    {
     "name": "stderr",
     "output_type": "stream",
     "text": [
      "C:\\anc\\lib\\site-packages\\pandas\\core\\computation\\expressions.py:21: UserWarning: Pandas requires version '2.8.4' or newer of 'numexpr' (version '2.8.3' currently installed).\n",
      "  from pandas.core.computation.check import NUMEXPR_INSTALLED\n",
      "C:\\anc\\lib\\site-packages\\pandas\\core\\arrays\\masked.py:61: UserWarning: Pandas requires version '1.3.6' or newer of 'bottleneck' (version '1.3.5' currently installed).\n",
      "  from pandas.core import (\n",
      "[nltk_data] Downloading package stopwords to C:\\Users\\Srivathsan\n",
      "[nltk_data]     V\\AppData\\Roaming\\nltk_data...\n",
      "[nltk_data]   Package stopwords is already up-to-date!\n"
     ]
    }
   ],
   "source": [
    "import warnings\n",
    "from nrclex import NRCLex\n",
    "import matplotlib.pyplot as plt\n",
    "import seaborn as sns\n",
    "import nltk\n",
    "#Importing necessary libraries\n",
    "import gensim\n",
    "import gensim.corpora as corpora\n",
    "nltk.download('stopwords')\n",
    "warnings.filterwarnings('ignore')\n"
   ]
  },
  {
   "cell_type": "markdown",
   "id": "116808be",
   "metadata": {},
   "source": [
    "## 01) Sentiment analysis using TextBlob"
   ]
  },
  {
   "cell_type": "code",
   "execution_count": 3,
   "id": "0409ff5b",
   "metadata": {},
   "outputs": [
    {
     "name": "stdout",
     "output_type": "stream",
     "text": [
      "Polarity: 0.75\n",
      "Subjectivity: 0.9375\n"
     ]
    }
   ],
   "source": [
    "from textblob import TextBlob\n",
    "import spacy\n",
    "# Step 1: Define your input text\n",
    "text = \"The service was outstanding and the food was delicious!\"\n",
    "\n",
    "# Step 2: Create a TextBlob object\n",
    "blob = TextBlob(text)\n",
    "\n",
    "# Step 3: Extract sentiment\n",
    "sentiment = blob.sentiment\n",
    "\n",
    "# Polarity -> measures how positive or negative the text is. Value ranges from:-1.0 (most negative) to +1.0 (most positive)\n",
    "print(\"Polarity:\", sentiment.polarity)   \n",
    "\n",
    "# Measures how subjective or objective the text is. Value ranges from: 0.0 (completely objective or factual) to 1.0 (completely subjective or opinionated)\n",
    "print(\"Subjectivity:\", sentiment.subjectivity)"
   ]
  },
  {
   "cell_type": "markdown",
   "id": "c2fc8fb2",
   "metadata": {},
   "source": [
    "## 02) Sentiment analyis with NRC Lexicon\n",
    "\n",
    "The NRC Emotion Lexicon (also known as EmoLex) is a word-emotion association lexicon developed by the National Research Council of Canada.\n",
    "\n",
    "Unlike other sentiment lexicons that only classify words as positive or negative, the NRC Lexicon maps English words to eight basic emotions and two sentiments:\n",
    "\n",
    "🎭 Emotions:\n",
    "\n",
    "Anger\n",
    "Anticipation\n",
    "Disgust\n",
    "Fear\n",
    "Joy\n",
    "Sadness\n",
    "Surprise\n",
    "Trust\n",
    "\n",
    "😃 Sentiments:\n",
    "\n",
    "Positive\n",
    "Negative\n",
    "\n",
    "Each word can be associated with one or more emotions and sentiments."
   ]
  },
  {
   "cell_type": "code",
   "execution_count": 4,
   "id": "758c8fb1",
   "metadata": {},
   "outputs": [
    {
     "name": "stdout",
     "output_type": "stream",
     "text": [
      "Raw Emotion Scores: {'joy': 1, 'positive': 2, 'trust': 1}\n",
      "Top Emotions: [('positive', 0.5)]\n"
     ]
    }
   ],
   "source": [
    "from nrclex import NRCLex\n",
    "\n",
    "text = \"I love the new phone design, but I'm scared about its durability.\"\n",
    "\n",
    "# Create an NRCLex object\n",
    "emotion = NRCLex(text)\n",
    "\n",
    "#NRCLex(text): This breaks your input text into words and checks each one against the NRC lexicon.\n",
    "\n",
    "\n",
    "# Display raw emotion scores\n",
    "print(\"Raw Emotion Scores:\", emotion.raw_emotion_scores)\n",
    "#.raw_emotion_scores: Returns a dictionary with the count of words associated with each emotion.\n",
    "\n",
    "# Display top emotions in the sentence\n",
    "print(\"Top Emotions:\", emotion.top_emotions)\n",
    "#.top_emotions: Gives the most frequent emotions found in the text\n"
   ]
  },
  {
   "cell_type": "code",
   "execution_count": 5,
   "id": "8889f5e2",
   "metadata": {},
   "outputs": [],
   "source": [
    "emotion = NRCLex(\"I love this design but I fear it won't last long.\")\n",
    "#Stopwords and punctuations are usually kept, but only words present in the NRC Lexicon are analyzed.(approz there are 14K words)\n"
   ]
  },
  {
   "cell_type": "code",
   "execution_count": 6,
   "id": "283d8c6f",
   "metadata": {},
   "outputs": [
    {
     "data": {
      "text/plain": [
       "{'joy': 1,\n",
       " 'positive': 1,\n",
       " 'anger': 1,\n",
       " 'fear': 1,\n",
       " 'negative': 1,\n",
       " 'anticipation': 1}"
      ]
     },
     "execution_count": 6,
     "metadata": {},
     "output_type": "execute_result"
    }
   ],
   "source": [
    "emotion.raw_emotion_scores"
   ]
  },
  {
   "cell_type": "code",
   "execution_count": 7,
   "id": "c7c68953",
   "metadata": {},
   "outputs": [
    {
     "data": {
      "text/plain": [
       "[('fear', 0.16666666666666666),\n",
       " ('anger', 0.16666666666666666),\n",
       " ('positive', 0.16666666666666666),\n",
       " ('negative', 0.16666666666666666),\n",
       " ('joy', 0.16666666666666666),\n",
       " ('anticipation', 0.16666666666666666)]"
      ]
     },
     "execution_count": 7,
     "metadata": {},
     "output_type": "execute_result"
    }
   ],
   "source": [
    "emotion.top_emotions # Average of each emotion"
   ]
  },
  {
   "cell_type": "code",
   "execution_count": 8,
   "id": "8adb100f",
   "metadata": {},
   "outputs": [
    {
     "data": {
      "text/plain": [
       "{'fear': 0.16666666666666666,\n",
       " 'anger': 0.16666666666666666,\n",
       " 'anticip': 0.0,\n",
       " 'trust': 0.0,\n",
       " 'surprise': 0.0,\n",
       " 'positive': 0.16666666666666666,\n",
       " 'negative': 0.16666666666666666,\n",
       " 'sadness': 0.0,\n",
       " 'disgust': 0.0,\n",
       " 'joy': 0.16666666666666666,\n",
       " 'anticipation': 0.16666666666666666}"
      ]
     },
     "execution_count": 8,
     "metadata": {},
     "output_type": "execute_result"
    }
   ],
   "source": [
    "emotion.affect_frequencies"
   ]
  },
  {
   "cell_type": "markdown",
   "id": "19a6b632",
   "metadata": {},
   "source": [
    "## 03) Sentiment analysis with AFINN\n",
    "AFINN is a lexicon-based sentiment analysis tool created by Finn Årup Nielsen. It contains English words rated for valence (emotional weight) on a scale from -5 to +5 (each word):\n",
    "\n",
    "Negative values (e.g., -4) = Strong negative sentiment (e.g., \"terrible\")\n",
    "\n",
    "Positive values (e.g., +4) = Strong positive sentiment (e.g., \"fantastic\")\n",
    "\n",
    "Zero or no match = Neutral or not found in the lexicon"
   ]
  },
  {
   "cell_type": "code",
   "execution_count": 9,
   "id": "2f9962e9",
   "metadata": {},
   "outputs": [
    {
     "name": "stdout",
     "output_type": "stream",
     "text": [
      "'The service was amazing and the staff was wonderful!' --> Sentiment Score: 8.0\n",
      "'The food was horrible and I hated the experience.' --> Sentiment Score: -6.0\n",
      "'The hotel is okay, nothing special.' --> Sentiment Score: 0.0\n",
      "'Absolutely love this place!' --> Sentiment Score: 3.0\n",
      "'The customer support is terrible!' --> Sentiment Score: -1.0\n"
     ]
    }
   ],
   "source": [
    "from afinn import Afinn\n",
    "\n",
    "# Initialize Afinn\n",
    "af = Afinn()\n",
    "\n",
    "# Define input sentences\n",
    "sentences = [\n",
    "    \"The service was amazing and the staff was wonderful!\",\n",
    "    \"The food was horrible and I hated the experience.\",\n",
    "    \"The hotel is okay, nothing special.\",\n",
    "    \"Absolutely love this place!\",\n",
    "    \"The customer support is terrible!\"\n",
    "]\n",
    "\n",
    "# Analyze each sentence\n",
    "for sentence in sentences:\n",
    "    score = af.score(sentence)\n",
    "    print(f\"'{sentence}' --> Sentiment Score: {score}\")\n"
   ]
  },
  {
   "cell_type": "code",
   "execution_count": 10,
   "id": "b06c3f53",
   "metadata": {},
   "outputs": [
    {
     "name": "stdout",
     "output_type": "stream",
     "text": [
      "Words in the review: ['Beautiful', 'and', 'amazing', 'place']\n",
      "Emotions in the review: ['beautiful', 'amazing']\n",
      "Score of each emotion: [3, 4]\n",
      "Total score of emotions: 7.0\n"
     ]
    }
   ],
   "source": [
    "sentence =\"Beautiful and amazing place!\"    #It checks for words in Afinn lexicon list\n",
    "print(\"Words in the review:\",af.split(sentence))\n",
    "print(\"Emotions in the review:\",af.find_all(sentence))\n",
    "print(\"Score of each emotion:\", af.scores_with_pattern(sentence))\n",
    "print(\"Total score of emotions:\",af.score_with_wordlist(sentence))"
   ]
  },
  {
   "cell_type": "code",
   "execution_count": null,
   "id": "f926f08c",
   "metadata": {},
   "outputs": [],
   "source": []
  }
 ],
 "metadata": {
  "kernelspec": {
   "display_name": "Python 3 (ipykernel)",
   "language": "python",
   "name": "python3"
  },
  "language_info": {
   "codemirror_mode": {
    "name": "ipython",
    "version": 3
   },
   "file_extension": ".py",
   "mimetype": "text/x-python",
   "name": "python",
   "nbconvert_exporter": "python",
   "pygments_lexer": "ipython3",
   "version": "3.9.13"
  }
 },
 "nbformat": 4,
 "nbformat_minor": 5
}
